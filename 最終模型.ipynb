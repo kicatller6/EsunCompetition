{
  "cells": [
    {
      "cell_type": "markdown",
      "metadata": {
        "id": "tgX3YXZMtYb4"
      },
      "source": [
        "## **協同過濾**"
      ]
    },
    {
      "cell_type": "code",
      "execution_count": null,
      "metadata": {
        "id": "RNkMZi81OtOD"
      },
      "outputs": [],
      "source": [
        "import pandas as pd\n",
        "import numpy as np\n",
        "import time"
      ]
    },
    {
      "cell_type": "code",
      "execution_count": null,
      "metadata": {
        "id": "TpIvf50_top1"
      },
      "outputs": [],
      "source": [
        "# 逐行讀取數據集\n",
        "content = []\n",
        "with open(r\"C:/yushan_race/需預測類別_交易次數合併資料_1211.csv\") as fp:  \n",
        "    content = fp.readlines()"
      ]
    },
    {
      "cell_type": "code",
      "execution_count": null,
      "metadata": {
        "id": "MErqV1J4tmW_"
      },
      "outputs": [],
      "source": [
        "# 將用户、購買種類、和購買次數寫入字典data\n",
        "data = {}\n",
        "for line in content[1:(len(content)-1)]:\n",
        "    line = line.strip().split(',')\n",
        "    #如果字典中没有某位用户，则使用用户ID来创建这位用户\n",
        "    if not line[0] in data.keys():\n",
        "        data[line[0]] = {line[1]:line[2]}\n",
        "    #否则直接添加以该用户ID为key字典中\n",
        "    else:\n",
        "        data[line[0]][line[1]] = line[2]\n",
        "\n",
        "#{chid: {shop_tag1:txn_cnt1, shop_tag2:txn_cnt2} }\n",
        "#data['10000000']"
      ]
    },
    {
      "cell_type": "code",
      "execution_count": null,
      "metadata": {
        "id": "cf5WYB6stnhV"
      },
      "outputs": [],
      "source": [
        "from math import *\n",
        "def Euclidean(user1,user2):\n",
        "    #取出两位用户评论过的电影和评分\n",
        "    user1_data=data[user1]\n",
        "    user2_data=data[user2]\n",
        "    distance = 0\n",
        "    #找到两位用户都评论过的电影，并计算欧式距离\n",
        "    for key in user1_data.keys():\n",
        "        if key in user2_data.keys():\n",
        "            #注意，distance越大表示两者越相似\n",
        "            distance += pow(float(user1_data[key])-float(user2_data[key]),2)\n",
        " \n",
        "    return 1/(1+sqrt(distance))#这里返回值越小，相似度越大\n",
        " \n",
        "#计算某个用户与其他用户的相似度\n",
        "def top10_simliar(userID):\n",
        "    res = []\n",
        "    for userid in data.keys():\n",
        "        #排除与自己计算相似度\n",
        "        if not userid == userID:\n",
        "            simliar = Euclidean(userID,userid)\n",
        "            res.append((userid,simliar))\n",
        "    res.sort(key=lambda val:val[1])\n",
        "    return res[:4] #推薦四個\n",
        " \n",
        "#RES = top10_simliar('10000500')\n",
        "#print(RES)"
      ]
    },
    {
      "cell_type": "code",
      "execution_count": null,
      "metadata": {
        "id": "Gwk5nCXh078U",
        "scrolled": true
      },
      "outputs": [],
      "source": [
        "def recommend(user):\n",
        "    #相似度最高的用户\n",
        "    top_sim_user = top10_simliar(user)[0][0]\n",
        "    #相似度最高的用户的观影记录\n",
        "    items = data[top_sim_user]\n",
        "    recommendations = []\n",
        "    #筛选出该用户未观看的电影并添加到列表中\n",
        "    for item in items.keys():\n",
        "        if item not in data[user].keys():\n",
        "            recommendations.append((item,items[item]))\n",
        "    recommendations.sort(key=lambda val:val[1],reverse=True)#按照评分排序\n",
        "    #返回评分最高的10部电影\n",
        "    return recommendations[:10]\n",
        " \n",
        "#Recommendations = recommend('10229334')\n",
        "#print(Recommendations)"
      ]
    },
    {
      "cell_type": "markdown",
      "metadata": {
        "id": "2MHwFQo5Txv5"
      },
      "source": [
        "## **推薦未滿三個類別需補上**"
      ]
    },
    {
      "cell_type": "markdown",
      "metadata": {
        "id": "3L8udh6i0Qzg"
      },
      "source": [
        "### **試試看填補邏輯 :**\n",
        "1.   先計算大眾化類別跟系統推薦類別的差異(用大眾化-系統推薦)\n",
        "2.   因為用set取差集順序可能會亂掉，所以按照原本的大眾化順序排序\n",
        "3.   再把2.結果直接加到推薦系統的list裡面\n",
        "4.   因為用後進先出去取前3名類別，所以設立while迴圈，如果推薦結果大於3就pop掉最新的元素，也就是最後推薦的類別\n",
        "\n"
      ]
    },
    {
      "cell_type": "code",
      "execution_count": null,
      "metadata": {
        "colab": {
          "base_uri": "https://localhost:8080/"
        },
        "id": "tdsWPUmU9s13",
        "outputId": "26098f84-5b0b-4bfb-b51e-76119c30fbe6"
      },
      "outputs": [
        {
          "data": {
            "text/plain": [
              "498040"
            ]
          },
          "execution_count": 6,
          "metadata": {},
          "output_type": "execute_result"
        }
      ],
      "source": [
        "pop_shop_tag=['6','10','12']   #大眾化的推薦名單，後進先出，所以順序不變\n",
        "myid=list(data.keys())    #id\n",
        "len(myid) #498040，代表有顧客沒有消費資料。所以推薦大眾化名單給他"
      ]
    },
    {
      "cell_type": "markdown",
      "metadata": {
        "id": "yQS3EbGLOtOI"
      },
      "source": [
        "### 主程式"
      ]
    },
    {
      "cell_type": "code",
      "execution_count": null,
      "metadata": {
        "id": "EVC-bC7_Ctj-",
        "outputId": "fbf1ef61-9a3b-4be8-9431-93954f6db64e"
      },
      "outputs": [
        {
          "name": "stdout",
          "output_type": "stream",
          "text": [
            "Wall time: 22.3 s\n"
          ]
        }
      ],
      "source": [
        "%%time\n",
        "myoutput=pd.DataFrame()\n",
        "for i in range(0,10):\n",
        "    result=[myid[i]]     \n",
        "    tem=recommend(result[0])\n",
        "    if len(tem) == 0:\n",
        "        tem = tem\n",
        "    else:\n",
        "        tem = np.array(tem)\n",
        "        tem = list(tem[0:len(tem),0])\n",
        "        #tem = list(map(int, tem))\n",
        "    c=list(set(pop_shop_tag)-set(tem))\n",
        "    c.sort(key=pop_shop_tag.index)\n",
        "    tem.extend(c)\n",
        "    #while len(tem)>3:\n",
        "    #    tem.pop()\n",
        "    \n",
        "    result.extend(tem[0:3])\n",
        "    result=pd.DataFrame(result).T\n",
        "    myoutput=pd.concat([myoutput,result],axis=0)\n",
        "    #print(i)"
      ]
    },
    {
      "cell_type": "code",
      "execution_count": null,
      "metadata": {
        "id": "oyX22nZeDcFv",
        "outputId": "122fcd05-f818-46dd-c124-d433a74e360c"
      },
      "outputs": [
        {
          "data": {
            "text/html": [
              "<div>\n",
              "<style scoped>\n",
              "    .dataframe tbody tr th:only-of-type {\n",
              "        vertical-align: middle;\n",
              "    }\n",
              "\n",
              "    .dataframe tbody tr th {\n",
              "        vertical-align: top;\n",
              "    }\n",
              "\n",
              "    .dataframe thead th {\n",
              "        text-align: right;\n",
              "    }\n",
              "</style>\n",
              "<table border=\"1\" class=\"dataframe\">\n",
              "  <thead>\n",
              "    <tr style=\"text-align: right;\">\n",
              "      <th></th>\n",
              "      <th>0</th>\n",
              "      <th>1</th>\n",
              "      <th>2</th>\n",
              "      <th>3</th>\n",
              "    </tr>\n",
              "  </thead>\n",
              "  <tbody>\n",
              "    <tr>\n",
              "      <th>0</th>\n",
              "      <td>10000000</td>\n",
              "      <td>36</td>\n",
              "      <td>18</td>\n",
              "      <td>6</td>\n",
              "    </tr>\n",
              "    <tr>\n",
              "      <th>0</th>\n",
              "      <td>10000001</td>\n",
              "      <td>6</td>\n",
              "      <td>10</td>\n",
              "      <td>12</td>\n",
              "    </tr>\n",
              "    <tr>\n",
              "      <th>0</th>\n",
              "      <td>10000002</td>\n",
              "      <td>36</td>\n",
              "      <td>18</td>\n",
              "      <td>15</td>\n",
              "    </tr>\n",
              "    <tr>\n",
              "      <th>0</th>\n",
              "      <td>10000003</td>\n",
              "      <td>36</td>\n",
              "      <td>18</td>\n",
              "      <td>15</td>\n",
              "    </tr>\n",
              "    <tr>\n",
              "      <th>0</th>\n",
              "      <td>10000004</td>\n",
              "      <td>18</td>\n",
              "      <td>6</td>\n",
              "      <td>10</td>\n",
              "    </tr>\n",
              "    <tr>\n",
              "      <th>0</th>\n",
              "      <td>10000005</td>\n",
              "      <td>18</td>\n",
              "      <td>15</td>\n",
              "      <td>48</td>\n",
              "    </tr>\n",
              "    <tr>\n",
              "      <th>0</th>\n",
              "      <td>10000006</td>\n",
              "      <td>36</td>\n",
              "      <td>18</td>\n",
              "      <td>48</td>\n",
              "    </tr>\n",
              "    <tr>\n",
              "      <th>0</th>\n",
              "      <td>10000007</td>\n",
              "      <td>36</td>\n",
              "      <td>18</td>\n",
              "      <td>15</td>\n",
              "    </tr>\n",
              "    <tr>\n",
              "      <th>0</th>\n",
              "      <td>10000008</td>\n",
              "      <td>36</td>\n",
              "      <td>48</td>\n",
              "      <td>6</td>\n",
              "    </tr>\n",
              "    <tr>\n",
              "      <th>0</th>\n",
              "      <td>10000009</td>\n",
              "      <td>36</td>\n",
              "      <td>18</td>\n",
              "      <td>15</td>\n",
              "    </tr>\n",
              "  </tbody>\n",
              "</table>\n",
              "</div>"
            ],
            "text/plain": [
              "          0   1   2   3\n",
              "0  10000000  36  18   6\n",
              "0  10000001   6  10  12\n",
              "0  10000002  36  18  15\n",
              "0  10000003  36  18  15\n",
              "0  10000004  18   6  10\n",
              "0  10000005  18  15  48\n",
              "0  10000006  36  18  48\n",
              "0  10000007  36  18  15\n",
              "0  10000008  36  48   6\n",
              "0  10000009  36  18  15"
            ]
          },
          "execution_count": 9,
          "metadata": {},
          "output_type": "execute_result"
        }
      ],
      "source": [
        "myoutput"
      ]
    },
    {
      "cell_type": "code",
      "execution_count": null,
      "metadata": {
        "id": "sJcRgV1dOtOK"
      },
      "outputs": [],
      "source": [
        ""
      ]
    },
    {
      "cell_type": "code",
      "execution_count": null,
      "metadata": {
        "id": "qij6vxg3OtOK"
      },
      "outputs": [],
      "source": [
        ""
      ]
    },
    {
      "cell_type": "code",
      "execution_count": null,
      "metadata": {
        "id": "zBreVh-aOtOK"
      },
      "outputs": [],
      "source": [
        ""
      ]
    },
    {
      "cell_type": "code",
      "execution_count": null,
      "metadata": {
        "id": "CnE6kivhOtOK"
      },
      "outputs": [],
      "source": [
        ""
      ]
    }
  ],
  "metadata": {
    "colab": {
      "collapsed_sections": [],
      "name": "最終模型_靖芸.ipynb",
      "provenance": []
    },
    "kernelspec": {
      "display_name": "Python 3",
      "language": "python",
      "name": "python3"
    },
    "language_info": {
      "codemirror_mode": {
        "name": "ipython",
        "version": 3
      },
      "file_extension": ".py",
      "mimetype": "text/x-python",
      "name": "python",
      "nbconvert_exporter": "python",
      "pygments_lexer": "ipython3",
      "version": "3.8.5"
    }
  },
  "nbformat": 4,
  "nbformat_minor": 0
}